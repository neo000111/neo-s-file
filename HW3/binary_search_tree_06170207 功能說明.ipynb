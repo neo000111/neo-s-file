{
 "cells": [
  {
   "cell_type": "markdown",
   "metadata": {},
   "source": [
    "# BST 功能說明"
   ]
  },
  {
   "cell_type": "markdown",
   "metadata": {},
   "source": [
    "## 新增 insert()"
   ]
  },
  {
   "cell_type": "markdown",
   "metadata": {},
   "source": [
    "### 將一個新的值插入二元搜尋樹內並符合定義"
   ]
  },
  {
   "cell_type": "code",
   "execution_count": 1,
   "metadata": {},
   "outputs": [],
   "source": [
    "    def insert(self, root, val): #插入數字功能\n",
    "        \n",
    "    \n",
    "        if root is None:         #檢查根節點是否存在，不存在將Treenode得值回傳回root。\n",
    "            return TreeNode(val)\n",
    "        else:                    #如果根節點存在，比大小，較小時往左子節點走，若左子節點不存在，將TreeNode得值賦值進去\n",
    "            if val <= root.val:\n",
    "                if root.left is None:\n",
    "                    root.left = TreeNode(val)\n",
    "                    \n",
    "                else:            #若左子節點存在，則呼叫insert()讓他在做比較往下一個子節點走\n",
    "                    self.insert(root.left, val)\n",
    "            elif val > root.val: #較大時，一樣看右子節點存不存在，不存在則將TreeNode賦值進去\n",
    "                if root.right is None:\n",
    "                    root.right = TreeNode(val)\n",
    "                    \n",
    "                else:\n",
    "                    self.insert(root.right, val)\n",
    "        return root"
   ]
  },
  {
   "cell_type": "markdown",
   "metadata": {},
   "source": [
    "## 搜尋 search()"
   ]
  },
  {
   "cell_type": "markdown",
   "metadata": {},
   "source": [
    "### 在二元搜尋樹搜尋目標值，存在回傳root，不存在回傳None"
   ]
  },
  {
   "cell_type": "code",
   "execution_count": 2,
   "metadata": {},
   "outputs": [],
   "source": [
    "    def search(self, root, target):\n",
    "        \n",
    "        if root is not None:       #如果根節點存在，則開始比對，當目標值等於當前值時，則回傳root\n",
    "            if target == root.val:\n",
    "                return root\n",
    "            if target < root.val:  #如果小於時則往左子節點走 \n",
    "                return self.search(root.left, target)\n",
    "            if target > root.val:  #如果大於時則往右子節點走\n",
    "                return self.search(root.right, target)\n",
    "       \n",
    "        else:\n",
    "            return None #如果都找不到時則回傳None"
   ]
  },
  {
   "cell_type": "markdown",
   "metadata": {},
   "source": [
    "## 刪除 delete()"
   ]
  },
  {
   "cell_type": "markdown",
   "metadata": {},
   "source": [
    "### 刪除指定的節點，並調整成符合定義的二元搜尋樹"
   ]
  },
  {
   "cell_type": "code",
   "execution_count": 3,
   "metadata": {},
   "outputs": [],
   "source": [
    "    def delete(self, root, target):     #第一個def利用search去尋找要刪除得值，利用while迴圈直到沒找到那個值，停止刪除\n",
    "        while self.search(root, target):\n",
    "            self.remove(root, target)\n",
    "        return root\n",
    "    \n",
    "    def remove(self, root, val): #第二個def開始處理刪除的過程，有三種情況\n",
    "        if not root:    #看當前節點存在與否\n",
    "            return None\n",
    "        if root.val == val: #當找到目標值時，開始看是哪種情況\n",
    "            if not root.left and not root.right: #第一個情況為吳佐右子節點，則直接回傳None值到root，刪除當前節點\n",
    "                return None\n",
    "            if not root.left:    #第二個情況為沒有左或右子節點時，則回傳另一個子節點回去，刪除當前節點\n",
    "                return root.right\n",
    "            if not root.right: \n",
    "                return root.left\n",
    "            left = root.left    #第三種情況為左右子節點皆存在時，找到右子節點中的最小值，將其替換過當前值，來符合BST定義\n",
    "            right = root.right\n",
    "            \n",
    "            while right.left:  #設定迴圈，當右子節點下方存在左子節點則不斷往左邊尋找，直到左子節點下方無更小值時\n",
    "                right = right.left\n",
    "            right.left = left\n",
    "            return right\n",
    "        if val > root.val:   #如果不符合當前值，比大小往左往右找尋直到符合目標值\n",
    "            root.right = self.remove(root.right, val)\n",
    "        else: \n",
    "            root.left = self.remove(root.left, val)\n",
    "            \n",
    "        return root"
   ]
  },
  {
   "cell_type": "markdown",
   "metadata": {},
   "source": [
    "## 修改 modify()"
   ]
  },
  {
   "cell_type": "markdown",
   "metadata": {},
   "source": [
    "### 修改目標值並替換新得值進去，並使其符合二元搜尋樹的定義"
   ]
  },
  {
   "cell_type": "code",
   "execution_count": 4,
   "metadata": {},
   "outputs": [],
   "source": [
    "    def modify(self, root, target, new_val):\n",
    "        while self.search(root, target): #呼叫search，設定迴圈，使其能修改重複值\n",
    "            self.remove(root, target) #移除目標值\n",
    "            self.insert(root, new_val) #新增新的值到二元搜尋樹\n",
    "        \n",
    "        return root"
   ]
  },
  {
   "cell_type": "markdown",
   "metadata": {},
   "source": [
    "#### 參考資料:http://alrightchiu.github.io/SecondRound/binary-search-tree-sortpai-xu-deleteshan-chu-zi-liao.html (觀念解析)\n",
    "####                 http://alrightchiu.github.io/SecondRound/binary-search-tree-searchsou-xun-zi-liao-insertxin-zeng-zi-liao.html (觀念解析)\n",
    "####                 https://blog.csdn.net/fuxuemingzhu/article/details/79670068 (程式碼參考)\n",
    "####                 https://blog.csdn.net/fuxuemingzhu/article/details/82385503 (程式碼參考)\n"
   ]
  },
  {
   "cell_type": "code",
   "execution_count": null,
   "metadata": {},
   "outputs": [],
   "source": []
  }
 ],
 "metadata": {
  "kernelspec": {
   "display_name": "Python 3",
   "language": "python",
   "name": "python3"
  },
  "language_info": {
   "codemirror_mode": {
    "name": "ipython",
    "version": 3
   },
   "file_extension": ".py",
   "mimetype": "text/x-python",
   "name": "python",
   "nbconvert_exporter": "python",
   "pygments_lexer": "ipython3",
   "version": "3.7.3"
  }
 },
 "nbformat": 4,
 "nbformat_minor": 2
}
