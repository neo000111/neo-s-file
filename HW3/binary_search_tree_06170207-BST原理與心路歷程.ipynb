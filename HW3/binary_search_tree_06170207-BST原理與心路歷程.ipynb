{
 "cells": [
  {
   "cell_type": "markdown",
   "metadata": {},
   "source": [
    "# BST 原理"
   ]
  },
  {
   "cell_type": "markdown",
   "metadata": {},
   "source": [
    "### 基本特徵: TreeNode包含Key值跟儲存的內容，而只要當前Node之Key若與其left child、right child之Key關係為Key(L)<Key(Current)<Key(R)，則可稱為二元搜尋樹。而二元搜尋樹可能是空集合或著一個節點包含一個值。"
   ]
  },
  {
   "cell_type": "markdown",
   "metadata": {},
   "source": [
    "###  缺點: 二元搜尋樹無法永遠保持在最佳狀態，當輸入的資料在以排序的情況下，將有機會產生歪斜樹，使其高度增加，浪費搜尋時間，所以其不利於經常變動的資料，比較適合不會變動的資料。"
   ]
  },
  {
   "cell_type": "markdown",
   "metadata": {},
   "source": [
    "## 心路歷程: 我認為這次寫二元搜尋樹，讓我對class的定義更加了解，對於使用遞迴的方式寫程式碼也有一些長進，這次遇到最大得困難是delete跟modify，delete比較難去想處理的方式，因其有三種情況，需要分別去設立條件，在參考別人的程式碼後，盡量去理解並寫出運作流程，modify則妹運作流程，modify則沒辦法想到如何去將當前值替換成新的值，就只能呼叫之前的defunction去做delete insert的過程。"
   ]
  },
  {
   "cell_type": "code",
   "execution_count": 160,
   "metadata": {},
   "outputs": [],
   "source": [
    "class TreeNode(object):  #定義樹的建立\n",
    "    def __init__(self,x):\n",
    "        self.val = x\n",
    "        self.left = None\n",
    "        self.right = None\n",
    "        \"\"\"\n",
    "        :type val: int\n",
    "        :type left: TreeNode or None\n",
    "        :type right: TreeNode or None\n",
    "        \"\"\"\n",
    "\n",
    "\n",
    "class Solution(object):\n",
    "    \n",
    "    def show(self, root):    #print出樹檢查數字增減\n",
    "        if root is not None:\n",
    "            self.showtree(root)\n",
    "    def showtree(self, cur):\n",
    "        if cur is not None:\n",
    "            self.showtree(cur.left)\n",
    "            print(str(cur.val), end=' ')\n",
    "            self.showtree(cur.right)\n",
    "            \n",
    "\n",
    "            \n",
    "    \n",
    "    def insert(self, root, val): #插入數字功能\n",
    "        \n",
    "    \n",
    "        if root is None:         #檢查根節點是否存在，不存在將Treenode得值回傳回root。\n",
    "            return TreeNode(val)\n",
    "        else:                    #如果根節點存在，比大小，較小時往左\n",
    "            if val <= root.val:\n",
    "                if root.left is None:\n",
    "                    root.left = TreeNode(val)\n",
    "                    \n",
    "                else:\n",
    "                    self.insert(root.left, val)\n",
    "            elif val > root.val:\n",
    "                if root.right is None:\n",
    "                    root.right = TreeNode(val)\n",
    "                    \n",
    "                else:\n",
    "                    self.insert(root.right, val)\n",
    "        return root\n",
    "    def search(self, root, target):\n",
    "        \n",
    "        if root is not None:\n",
    "            if target == root.val:\n",
    "                return root\n",
    "            if target < root.val:\n",
    "                return self.search(root.left, target)\n",
    "            if target > root.val:\n",
    "                return self.search(root.right, target)\n",
    "       \n",
    "        else:\n",
    "            return None\n",
    "    def delete(self, root, target):   \n",
    "        while self.search(root, target):\n",
    "            self.remove(root, target)\n",
    "        return root\n",
    "    \n",
    "    def remove(self, root, val):\n",
    "        if not root: \n",
    "            return None\n",
    "        if root.val == val:\n",
    "            if not root.left and not root.right: \n",
    "                return None\n",
    "            if not root.left: \n",
    "                return root.right\n",
    "            if not root.right: \n",
    "                return root.left\n",
    "            left = root.left\n",
    "            right = root.right\n",
    "            \n",
    "            while right.left: \n",
    "                right = right.left\n",
    "            right.left = left\n",
    "            return right\n",
    "        if val > root.val: \n",
    "            root.right = self.remove(root.right, val)\n",
    "        else: \n",
    "            root.left = self.remove(root.left, val)\n",
    "            \n",
    "        return root\n",
    "            \n",
    "    def modify(self, root, target, new_val):\n",
    "        while self.search(root, target):\n",
    "            self.remove(root, target)\n",
    "            self.insert(root, new_val)\n",
    "        \n",
    "        return root\n",
    "\n",
    "\n",
    "        \n",
    "    \n",
    "        "
   ]
  },
  {
   "cell_type": "markdown",
   "metadata": {},
   "source": [
    "#### 下方是測試過程"
   ]
  },
  {
   "cell_type": "code",
   "execution_count": 159,
   "metadata": {},
   "outputs": [
    {
     "name": "stdout",
     "output_type": "stream",
     "text": [
      "delete\n",
      "True\n",
      "True\n",
      "True\n",
      "True\n"
     ]
    }
   ],
   "source": [
    "root2 = TreeNode(5)\n",
    "Node1 = TreeNode(3)\n",
    "Node2 = TreeNode(3)\n",
    "Node3 = TreeNode(-5)\n",
    "Node4 = TreeNode(8)\n",
    "Node5 = TreeNode(7)\n",
    "Node6 = TreeNode(6)\n",
    "Node7 = TreeNode(10)\n",
    "root2.left = Node1\n",
    "root2.right = Node4\n",
    "Node1.left = Node2\n",
    "Node2.left = Node3\n",
    "Node4.left = Node5\n",
    "Node5.left = Node6\n",
    "Node4.right = Node7\n",
    "\n",
    "print(\"delete\")\n",
    "root2 = Solution().delete(root2,3)\n",
    "print(root2.val == 5 and root2.left.val == -5 and root2.left.left == None and root2.left.right == None)\n",
    "print(root2.right.right.val == 10 and root2.right.left.val == 7 and root2.right.left.left.val == 6)\n",
    "print(root2.right.right.right == None and root2.right.right.left == None and root2.right.left.right == None)\n",
    "print(root2.right.left.left.left == None and root2.right.left.left.right == None and root2.right.val == 8)"
   ]
  },
  {
   "cell_type": "code",
   "execution_count": 161,
   "metadata": {},
   "outputs": [
    {
     "data": {
      "text/plain": [
       "<__main__.TreeNode at 0x2270c562e48>"
      ]
     },
     "execution_count": 161,
     "metadata": {},
     "output_type": "execute_result"
    }
   ],
   "source": [
    "test = TreeNode(5)\n",
    "Solution().insert(test,3)\n",
    "Solution().insert(test,3)\n",
    "Solution().insert(test,-5)\n",
    "Solution().insert(test,8)\n",
    "Solution().insert(test,7)\n",
    "Solution().insert(test,10)\n",
    "Solution().insert(test,6)\n",
    "Solution().insert(test,3)\n"
   ]
  },
  {
   "cell_type": "code",
   "execution_count": 150,
   "metadata": {},
   "outputs": [
    {
     "name": "stdout",
     "output_type": "stream",
     "text": [
      "-5 3 3 3 5 6 7 8 10 "
     ]
    }
   ],
   "source": [
    "Solution().show(test)"
   ]
  },
  {
   "cell_type": "code",
   "execution_count": 151,
   "metadata": {},
   "outputs": [
    {
     "data": {
      "text/plain": [
       "<__main__.TreeNode at 0x2270c52c5f8>"
      ]
     },
     "execution_count": 151,
     "metadata": {},
     "output_type": "execute_result"
    }
   ],
   "source": [
    "Solution().search(test,7)"
   ]
  },
  {
   "cell_type": "code",
   "execution_count": 152,
   "metadata": {},
   "outputs": [
    {
     "name": "stdout",
     "output_type": "stream",
     "text": [
      "-5 5 6 7 8 10 "
     ]
    }
   ],
   "source": [
    "Solution().delete(test,3)\n",
    "Solution().show(test)"
   ]
  },
  {
   "cell_type": "code",
   "execution_count": 162,
   "metadata": {},
   "outputs": [
    {
     "data": {
      "text/plain": [
       "<__main__.TreeNode at 0x2270c562e48>"
      ]
     },
     "execution_count": 162,
     "metadata": {},
     "output_type": "execute_result"
    }
   ],
   "source": [
    "Solution().modify(test, 3, 7)"
   ]
  },
  {
   "cell_type": "markdown",
   "metadata": {},
   "source": [
    "#### 參考資料:http://alrightchiu.github.io/SecondRound/binary-search-tree-sortpai-xu-deleteshan-chu-zi-liao.html (觀念解析)\n",
    "####                 http://alrightchiu.github.io/SecondRound/binary-search-tree-searchsou-xun-zi-liao-insertxin-zeng-zi-liao.html (觀念解析)\n",
    "####                 https://blog.csdn.net/fuxuemingzhu/article/details/79670068 (程式碼參考)\n",
    "####                 https://blog.csdn.net/fuxuemingzhu/article/details/82385503 (程式碼參考)\n",
    "            \n",
    "        \n",
    "    "
   ]
  },
  {
   "cell_type": "code",
   "execution_count": null,
   "metadata": {},
   "outputs": [],
   "source": []
  }
 ],
 "metadata": {
  "kernelspec": {
   "display_name": "Python 3",
   "language": "python",
   "name": "python3"
  },
  "language_info": {
   "codemirror_mode": {
    "name": "ipython",
    "version": 3
   },
   "file_extension": ".py",
   "mimetype": "text/x-python",
   "name": "python",
   "nbconvert_exporter": "python",
   "pygments_lexer": "ipython3",
   "version": "3.7.3"
  }
 },
 "nbformat": 4,
 "nbformat_minor": 2
}
