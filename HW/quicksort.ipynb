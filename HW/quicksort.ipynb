{
 "cells": [
  {
   "cell_type": "markdown",
   "metadata": {},
   "source": [
    "<font face=\"微软雅黑\" size=5>HW1 Quicksort"
   ]
  },
  {
   "cell_type": "markdown",
   "metadata": {},
   "source": [
    "<font face=\"黑体\" size=3> 快速排序法(Quick Sort)基本運作方式類似於氣泡排序法，利用交換做排序，原理是尋找一個中間值將陣列分為兩個部分，把小於中間值放在左邊而大於中間值則放在右邊，再以同樣的方式分別處理左右兩邊，直到最後排序完成。"
   ]
  },
  {
   "cell_type": "markdown",
   "metadata": {},
   "source": [
    "<font face=\"微软雅黑\" size=5>學習過程"
   ]
  },
  {
   "cell_type": "markdown",
   "metadata": {},
   "source": [
    "<font face=\"黑體\" size=3>一開始是先去了解其排序方法，因要分為兩部份可以想到用空list去實現，但因為該方法使用到外部空間，當數列一長將浪費許多空間去處理，因此參考書上以及網路上的解法，將其分為兩個function去實現。"
   ]
  },
  {
   "cell_type": "markdown",
   "metadata": {},
   "source": [
    "<font face=\"黑體\" size=3>第一個function(quicksort)控制整個流程，第二個則是實現Quick Sort 的方法，因是使用內部空間去做交換，所以不會有需要用到外部空間的問題。"
   ]
  },
  {
   "cell_type": "code",
   "execution_count": 6,
   "metadata": {},
   "outputs": [],
   "source": [
    "def quicksort(Ary ,first = 0, last = None):\n",
    "    if last == None:\n",
    "        last = len(Ary) - 1 #設為尾端\n",
    "    if first < last:\n",
    "        pivotIndex = Division(Ary, first, last)\n",
    "        quicksort(Ary, first, pivotIndex - 1) #處理左邊也就是小於pivot的index\n",
    "        quicksort(Ary, pivotIndex + 1, last) #處理右邊也就是大於pivot的index\n",
    "    return Ary\n",
    "    "
   ]
  },
  {
   "cell_type": "code",
   "execution_count": 30,
   "metadata": {},
   "outputs": [],
   "source": [
    "def Division(Ary, first, last): #將陣列分割\n",
    "    index = first \n",
    "    pivot = Ary[first] #將List的第一個值設為基準值\n",
    "    for i in range(first + 1, last + 1):\n",
    "        if Ary[i] <= pivot: #與pivot做比較，若小於pivot\n",
    "            index += 1 #index = index + 1\n",
    "            Ary[i], Ary[index] = Ary[index], Ary[i] #目前的值與pivot對調\n",
    "    Ary[first], Ary[index] = Ary[index], Ary[first] #pivot與分割的值對調\n",
    "    \n",
    "    return index\n",
    "    "
   ]
  },
  {
   "cell_type": "code",
   "execution_count": 33,
   "metadata": {},
   "outputs": [
    {
     "data": {
      "text/plain": [
       "[6, 13, 25, 26, 47, 49, 85, 95]"
      ]
     },
     "execution_count": 33,
     "metadata": {},
     "output_type": "execute_result"
    }
   ],
   "source": [
    "a = [25, 6, 47, 85, 95, 26, 13, 49]\n",
    "quicksort(a)"
   ]
  }
 ],
 "metadata": {
  "kernelspec": {
   "display_name": "Python 3",
   "language": "python",
   "name": "python3"
  },
  "language_info": {
   "codemirror_mode": {
    "name": "ipython",
    "version": 3
   },
   "file_extension": ".py",
   "mimetype": "text/x-python",
   "name": "python",
   "nbconvert_exporter": "python",
   "pygments_lexer": "ipython3",
   "version": "3.7.3"
  }
 },
 "nbformat": 4,
 "nbformat_minor": 2
}
