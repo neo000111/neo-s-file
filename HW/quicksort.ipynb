{
 "cells": [
  {
   "cell_type": "code",
   "execution_count": 6,
   "metadata": {},
   "outputs": [],
   "source": [
    "def quicksort(Ary ,first = 0, last = None):\n",
    "    if last == None:\n",
    "        last = len(Ary) - 1 #設為尾端\n",
    "    if first < last:\n",
    "        pivotIndex = Division(Ary, first, last)\n",
    "        quicksort(Ary, first, pivotIndex - 1) #處理左邊\n",
    "        quicksort(Ary, pivotIndex + 1, last) #處理右邊\n",
    "    return Ary\n",
    "    "
   ]
  },
  {
   "cell_type": "code",
   "execution_count": 14,
   "metadata": {},
   "outputs": [],
   "source": [
    "def Division(Ary, first, last): #將陣列分割\n",
    "    index = first\n",
    "    pivot = Ary[first]\n",
    "    for i in range(first + 1, last + 1):\n",
    "        if Ary[i] <= pivot: #與pivot做比較，若小於pivot\n",
    "            index += 1 #index = index + 1\n",
    "            Ary[i], Ary[index] = Ary[index], Ary[i] #目前的值與pivot對調\n",
    "    Ary[first], Ary[index] = Ary[index], Ary[first] #pivot與分割的值對調\n",
    "    \n",
    "    return index\n",
    "    "
   ]
  },
  {
   "cell_type": "code",
   "execution_count": 16,
   "metadata": {},
   "outputs": [
    {
     "data": {
      "text/plain": [
       "[3, 6, 13, 26, 47, 49, 85, 95]"
      ]
     },
     "execution_count": 16,
     "metadata": {},
     "output_type": "execute_result"
    }
   ],
   "source": [
    "a = [3, 6, 47, 85, 95, 26, 13, 49]\n",
    "quicksort(a)"
   ]
  }
 ],
 "metadata": {
  "kernelspec": {
   "display_name": "Python 3",
   "language": "python",
   "name": "python3"
  },
  "language_info": {
   "codemirror_mode": {
    "name": "ipython",
    "version": 3
   },
   "file_extension": ".py",
   "mimetype": "text/x-python",
   "name": "python",
   "nbconvert_exporter": "python",
   "pygments_lexer": "ipython3",
   "version": "3.7.3"
  }
 },
 "nbformat": 4,
 "nbformat_minor": 2
}
