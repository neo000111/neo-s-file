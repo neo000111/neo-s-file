{
 "cells": [
  {
   "cell_type": "markdown",
   "metadata": {},
   "source": [
    "# BFS與DFS原理說明"
   ]
  },
  {
   "cell_type": "markdown",
   "metadata": {},
   "source": [
    "## BFS(廣度優先搜尋法)"
   ]
  },
  {
   "cell_type": "markdown",
   "metadata": {},
   "source": [
    "### BFS為一種圖形搜尋演算法，從圖的某一頂點開始走訪，拜訪過的頂點就做上已拜訪過的標記，接著走訪與此頂點相鄰且未拜訪過的頂點，以樹來舉例就是把同一深度的頂點走完，再往下一個深度走，直到找到目標或走完整個圖為止"
   ]
  },
  {
   "cell_type": "markdown",
   "metadata": {},
   "source": [
    "### DFS是一種圖形搜尋演算法，有點類似前序走訪，一樣由圖的某一頂點開始走訪，被拜訪過的頂點便做上標記，先搜尋與其相連的某一頂點並盡量往下探索直到無頂點相連，就回到上一個頂點並繼續走訪剩下未被走訪的點，直到找到目標或全部都被拜訪過為止。"
   ]
  },
  {
   "cell_type": "markdown",
   "metadata": {},
   "source": [
    "## 比較"
   ]
  },
  {
   "cell_type": "markdown",
   "metadata": {},
   "source": [
    "### 程式方面，BFS通常以迴圈的方式來實現，而DFS則以stack來處理，通常是使用遞迴因此較簡潔，而在求最短路徑方面，因DFS需反覆經過相同的狀態，因此使用BFS較優，而記憶體空間則為DFS較節省空間，因BFS通常需要與狀態樹成正比的空間。"
   ]
  },
  {
   "cell_type": "markdown",
   "metadata": {},
   "source": [
    "## 程式原理"
   ]
  },
  {
   "cell_type": "code",
   "execution_count": 47,
   "metadata": {},
   "outputs": [],
   "source": [
    "from collections import defaultdict \n",
    "  \n",
    "\n",
    "\n",
    "class Graph:\n",
    "    \n",
    "    def __init__(self): \n",
    "        \n",
    "        self.graph = defaultdict(list) \n",
    "        \n",
    "\n",
    "    \n",
    "    def addEdge(self,u,v): \n",
    "        self.graph[u].append(v) \n",
    "  \n",
    "\n",
    "    def BFS(self, s): \n",
    "        visisted = [] #設兩個list，一個為已拜訪過的，另一個放與頂點相連的其他點\n",
    "        alist = [s]   #s為起始頂點\n",
    "        visisted.append(s) \n",
    "        while len(alist) > 0: \n",
    "            u = alist.pop(0)  #將頂點從alist中取出\n",
    "            for n in self.graph[u]: #利用for迴圈去走訪與頂點相連的其他點\n",
    "                if n not in visisted: #判斷是否已拜訪過\n",
    "                    visisted.append(n) #沒拜訪過就加入已拜訪過的list\n",
    "                    alist.append(n)    #將走訪到的頂點加入alist以便下次迴圈從他開始\n",
    "        return visisted \n",
    "    \n",
    "    def DFS(self, s):\n",
    "        stack = [s]  #設兩個list，一個放暫存的點，一個為輸出結果\n",
    "        visited = []\n",
    "        while len(stack) > 0: #利用迴圈去做走訪的動作\n",
    "            u = stack.pop(-1) #把stack內最後一個點取出\n",
    "            if u not in visited: #如果取出來得點不在visited裡，則將他加入\n",
    "                visited.append(u)\n",
    "            \n",
    "            for n in self.graph[u]: #利用for迴圈走訪頂點相連的點\n",
    "                if n not in visited: #當走訪到的點不在visited和stack裡，則將其加到stack\n",
    "                    if n not in stack:\n",
    "                        stack.append(n)\n",
    "                    \n",
    "        return visited\n",
    "        "
   ]
  },
  {
   "cell_type": "markdown",
   "metadata": {},
   "source": [
    "## 測試"
   ]
  },
  {
   "cell_type": "code",
   "execution_count": 48,
   "metadata": {},
   "outputs": [
    {
     "name": "stdout",
     "output_type": "stream",
     "text": [
      "[2, 0, 3, 1]\n",
      "[2, 3, 0, 1]\n"
     ]
    }
   ],
   "source": [
    "g = Graph()\n",
    "g.addEdge(0,1)\n",
    "g.addEdge(0,2)\n",
    "g.addEdge(1,2)\n",
    "g.addEdge(2,0)\n",
    "g.addEdge(2,3)\n",
    "g.addEdge(3,3)\n",
    "print(g.BFS(2))\n",
    "print(g.DFS(2))"
   ]
  },
  {
   "cell_type": "markdown",
   "metadata": {},
   "source": [
    "## 再測試"
   ]
  },
  {
   "cell_type": "code",
   "execution_count": 52,
   "metadata": {},
   "outputs": [],
   "source": [
    "g = Graph()\n",
    "g.addEdge(11,10)\n",
    "g.addEdge(10,9)\n",
    "g.addEdge(10,11)\n",
    "g.addEdge(10,6)\n",
    "g.addEdge(9,4)\n",
    "g.addEdge(9,7)\n",
    "g.addEdge(9,10)\n",
    "g.addEdge(6,10)\n",
    "g.addEdge(7,9)\n",
    "g.addEdge(7,4)\n",
    "g.addEdge(7,2)\n",
    "g.addEdge(7,5)\n",
    "g.addEdge(7,8)\n",
    "g.addEdge(8,7)\n",
    "g.addEdge(8,5)\n",
    "g.addEdge(8,2)\n",
    "g.addEdge(5,8)\n",
    "g.addEdge(5,7)\n",
    "g.addEdge(5,2)\n",
    "g.addEdge(5,12)\n",
    "g.addEdge(5,3)\n",
    "g.addEdge(2,3)\n",
    "g.addEdge(2,4)\n",
    "g.addEdge(2,7)\n",
    "g.addEdge(2,8)\n",
    "g.addEdge(2,5)\n",
    "g.addEdge(2,12)\n",
    "g.addEdge(4,1)\n",
    "g.addEdge(4,2)\n",
    "g.addEdge(4,7)\n",
    "g.addEdge(4,9)\n",
    "g.addEdge(3,1)\n",
    "g.addEdge(3,2)\n",
    "g.addEdge(3,5)\n",
    "g.addEdge(3,12)\n",
    "g.addEdge(1,3)\n",
    "g.addEdge(1,4)\n",
    "g.addEdge(12,3)\n",
    "g.addEdge(12,2)\n",
    "g.addEdge(12,5)"
   ]
  },
  {
   "cell_type": "code",
   "execution_count": 53,
   "metadata": {},
   "outputs": [
    {
     "name": "stdout",
     "output_type": "stream",
     "text": [
      "[11, 10, 9, 6, 4, 7, 1, 2, 5, 8, 3, 12]\n",
      "[11, 10, 6, 9, 7, 8, 5, 3, 1, 12, 2, 4]\n"
     ]
    }
   ],
   "source": [
    "print(g.BFS(11))\n",
    "print(g.DFS(11))"
   ]
  },
  {
   "cell_type": "code",
   "execution_count": 51,
   "metadata": {},
   "outputs": [
    {
     "name": "stdout",
     "output_type": "stream",
     "text": [
      "['I', 'G', 'H', 'D', 'A', 'B', 'E', 'C', 'F']\n"
     ]
    }
   ],
   "source": [
    "g = Graph()\n",
    "g.addEdge(\"A\",\"B\")\n",
    "g.addEdge(\"A\",\"C\")\n",
    "g.addEdge(\"A\",\"D\")\n",
    "g.addEdge(\"B\",\"A\")\n",
    "g.addEdge(\"B\",\"E\")\n",
    "g.addEdge(\"C\",\"A\")\n",
    "g.addEdge(\"C\",\"E\")\n",
    "g.addEdge(\"C\",\"F\")\n",
    "g.addEdge(\"C\",\"G\")\n",
    "g.addEdge(\"C\",\"H\")\n",
    "g.addEdge(\"D\",\"A\")\n",
    "g.addEdge(\"D\",\"H\")\n",
    "g.addEdge(\"E\",\"B\")\n",
    "g.addEdge(\"E\",\"C\")\n",
    "g.addEdge(\"E\",\"F\")\n",
    "g.addEdge(\"F\",\"C\")\n",
    "g.addEdge(\"F\",\"E\")\n",
    "g.addEdge(\"F\",\"I\")\n",
    "g.addEdge(\"G\",\"C\")\n",
    "g.addEdge(\"G\",\"H\")\n",
    "g.addEdge(\"G\",\"I\")\n",
    "g.addEdge(\"H\",\"C\")\n",
    "g.addEdge(\"H\",\"D\")\n",
    "g.addEdge(\"H\",\"G\")\n",
    "g.addEdge(\"I\",\"F\")\n",
    "g.addEdge(\"I\",\"G\")\n",
    "print(g.DFS(\"I\"))"
   ]
  },
  {
   "cell_type": "markdown",
   "metadata": {},
   "source": [
    "## pop用法測試"
   ]
  },
  {
   "cell_type": "code",
   "execution_count": 25,
   "metadata": {},
   "outputs": [
    {
     "name": "stdout",
     "output_type": "stream",
     "text": [
      "[9]\n"
     ]
    }
   ],
   "source": [
    "a = []\n",
    "b = [2,6,78,9]\n",
    "a.append(b.pop())\n",
    "print(a)"
   ]
  },
  {
   "cell_type": "markdown",
   "metadata": {},
   "source": [
    "## 心得: "
   ]
  },
  {
   "cell_type": "markdown",
   "metadata": {},
   "source": [
    "### 在理解BFS 與 DFS 的概念之後，先看了一下字典的用法，如何去使用graph，接著開始想如何寫BFS，參考了一些網路上的寫法，理解整個流程並寫出整個架構，再來則是挑戰DFS，而DFS一開始理解錯誤，所以卡了一下，後來發現自己想錯，而在紙上重新整理思緒，並一步步分解要做的是以及該設立的條件，感覺在紙上思路較清晰，所以一下就寫出來了，之後在跟同學對照了一下測資以及概念討論，而發現了小錯誤，最後完成作業，總覺得寫程式有越來越進步，也越來越能理解程式式如何去運作，繼續努力。"
   ]
  },
  {
   "cell_type": "markdown",
   "metadata": {},
   "source": [
    "#### 參考資料: https://docs.google.com/presentation/d/e/2PACX-1vTma_vOZyE70O23KWw4I4Y78aAaT5fJSTq7Mae912kCwka_u5ZMWPoo14D86-x-57kZPbb6hAGktSW4/pub?start=false&loop=false&delayms=3000&slide=id.g7aa022d8bc_2_0 (簡報上的DFS概念)\n",
    "#### https://www.itread01.com/content/1542363063.html (BFS 程式碼參考)\n",
    "#### https://www.runoob.com/python/att-list-pop.html (list.pop()的用法)\n",
    "#### http://simonsays-tw.com/web/DFS-BFS/BreadthFirstSearch.html (BFS概念)\n",
    "#### http://simonsays-tw.com/web/DFS-BFS/DepthFirstSearch.html (DFS概念)"
   ]
  }
 ],
 "metadata": {
  "kernelspec": {
   "display_name": "Python 3",
   "language": "python",
   "name": "python3"
  },
  "language_info": {
   "codemirror_mode": {
    "name": "ipython",
    "version": 3
   },
   "file_extension": ".py",
   "mimetype": "text/x-python",
   "name": "python",
   "nbconvert_exporter": "python",
   "pygments_lexer": "ipython3",
   "version": "3.7.3"
  }
 },
 "nbformat": 4,
 "nbformat_minor": 2
}
