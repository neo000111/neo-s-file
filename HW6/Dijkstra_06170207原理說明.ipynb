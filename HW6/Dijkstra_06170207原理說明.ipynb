{
 "cells": [
  {
   "cell_type": "markdown",
   "metadata": {},
   "source": [
    "# Dijkstra 與 Kruskal 原理說明"
   ]
  },
  {
   "cell_type": "markdown",
   "metadata": {},
   "source": [
    "## Dijkstra:"
   ]
  },
  {
   "cell_type": "markdown",
   "metadata": {},
   "source": [
    "#### Dijkstra 算法是一種用於計算帶有加權有向圖中單源最短路徑的算法，其解決的問題是：給定圖 G 和源頂點 v，找到從 v 至圖中所有頂點的最短路徑；是一種「每次挑選當前最佳選擇(optimal solution)」的貪心演算法：1.把vertex分成兩個集合，其中一個集合「S」中的vertex屬於「已經找到從起點vertex出發至該vertex的最短路徑」，另一個集合「Q」中的vertex則還沒有。\n",
    "#### 2.對所有vertex的predecessor與distance進行初始化(見圖一(b))，並更新起點vertex之distance為0；\n",
    "#### 3.若Graph中有V個vertex，便執行V次迴圈。\n",
    "#### 4.在每一個迴圈的開始，從Q中挑選出「distance值最小」的vertex，表示已經找到「從起點vertex抵達該vertex之最短距離」，並將該vertex從Q中移除，放進S集合。\n",
    "#### 5.每一次迴圈都會藉由Relax()更新「從起點vertex到達仍屬於Q集合的vertex之path距離」，並將path距離存放於distance[]。並且利用DecreaseKey()更新Q中vertex的Key(也就是distance)。步驟四與步驟五為完整的一次迴圈。\n",
    "#### 6.進到下一個迴圈時，會繼續從Q中挑選出「distance最小」的vertex，放進S。\n",
    "#### 7.重複上述步驟，直到Q中的vertex都被放進S為止。\n",
    "\n",
    "#### 而其使用時機為當Graph中的weight皆為非負實數，此時Graph中的所有cycle之wieght總和必定是正值；亦即，路徑中的edge越多，其weight總和只會增加或持平，不可能減少。"
   ]
  },
  {
   "cell_type": "markdown",
   "metadata": {},
   "source": [
    "## Kruskal:"
   ]
  },
  {
   "cell_type": "markdown",
   "metadata": {},
   "source": [
    "#### Kruskal為MST的一種演算法，是以一次加入一個邊的步驟來建立一個最小花費擴張樹，並將各邊成本利用遞增方式加入此最小花費擴張樹。Kruskal演算法是將各邊線依權值大小，由小到大排列，從權值最低的邊線開始架構最小成本擴張樹，如果加入的邊線會造成迴圈則捨棄不用。其也是貪心演算法的一種。"
   ]
  },
  {
   "cell_type": "code",
   "execution_count": 59,
   "metadata": {},
   "outputs": [],
   "source": [
    "\n",
    "from collections import defaultdict \n",
    "\n",
    "\n",
    "\n",
    "class Graph(): \n",
    "\n",
    "    def __init__(self, vertices): \n",
    "        self.V = vertices \n",
    "        self.graph = [] \n",
    "        self.graph_matrix = [[0 for column in range(vertices)]  \n",
    "                    for row in range(vertices)] \n",
    "    def addEdge(self,u,v,w): \n",
    "       \n",
    "        self.graph.append([u,v,w])\n",
    "        \n",
    "    def Dijkstra(self, s):\n",
    "        output = {}\n",
    "        for numbers in range(self.V):\n",
    "            final = g.graph[numbers]\n",
    "            for i in range(self.V):\n",
    "                for each in range(len(final)):\n",
    "                    if final[each] != 0:\n",
    "                        nextlist = g.graph[each]\n",
    "                        for d in range(len(nextlist)):\n",
    "                            if nextlist[d] != 0:\n",
    "                                if final[d] == 0 or final[d] > final[each] + nextlist[d]:\n",
    "                                    final[d] = final[each] + nextlist[d]\n",
    "            self.graph[numbers] = final\n",
    "        \n",
    "        for v in range(self.V):\n",
    "            self.graph[v][v] = 0\n",
    "            \n",
    "        for v in range(self.V):\n",
    "            output[str(v)] = self.graph[s][v]\n",
    "            \n",
    "        return output\n",
    "        \n",
    "      \n",
    "        \n",
    "       \n",
    "    \n",
    "    def find(self, p, i): \n",
    "        if p[i] == i: \n",
    "            return i \n",
    "        return self.find(p, p[i]) \n",
    "  \n",
    "  \n",
    "    def union(self, p, rank, x, y): \n",
    "        xroot = self.find(p, x) \n",
    "        yroot = self.find(p, y) \n",
    "  \n",
    "        \n",
    "        if rank[xroot] < rank[yroot]: \n",
    "            p[xroot] = yroot \n",
    "        elif rank[xroot] > rank[yroot]: \n",
    "            p[yroot] = xroot \n",
    "  \n",
    "       \n",
    "        else : \n",
    "            p[yroot] = xroot \n",
    "            rank[xroot] = rank[xroot] + 1    \n",
    "\n",
    "  \n",
    "   \n",
    "    def Kruskal(self): \n",
    "  \n",
    "        result =[] \n",
    "  \n",
    "        i = 0 ; e = 0 \n",
    "  \n",
    "          \n",
    "        self.graph =  sorted(self.graph,key=lambda item: item[2]) \n",
    "  \n",
    "        p = [] \n",
    "        rank = [] \n",
    "  \n",
    "        \n",
    "        for node in range(self.V): \n",
    "            p.append(node) \n",
    "            rank.append(0) \n",
    "      \n",
    "        \n",
    "        while e < self.V -1 : \n",
    "  \n",
    "            \n",
    "            u,v,w =  self.graph[i] \n",
    "            i = i + 1\n",
    "            x = self.find(p, u) \n",
    "            y = self.find(p ,v) \n",
    "  \n",
    "          \n",
    "            if x != y: \n",
    "                e = e + 1     \n",
    "                result.append([u,v,w]) \n",
    "                self.union(p, rank, x, y)             \n",
    "      \n",
    "        answer = {}\n",
    "        for u,v,weight  in result: \n",
    "            answer[str(u)+'-'+str(v)] = weight\n",
    "                           \n",
    "        return answer        \n",
    "                \n",
    "                \n",
    "                \n",
    "        \n",
    "    \n",
    "        \n",
    "        \n"
   ]
  },
  {
   "cell_type": "markdown",
   "metadata": {},
   "source": [
    "#### 心路歷程: 這次的程式碼想很久還是寫不出來，又因期末事情較多，沒辦法想出解答，只好參考網路解答與同學的做法，雖然兩個演算法的概念都非常清楚，流程也都能理解，但要實做還是有較大的困難，根本原因可能是對一些基本的程式碼用法還是不熟，只能先交作業之後再加強。"
   ]
  },
  {
   "cell_type": "code",
   "execution_count": 60,
   "metadata": {},
   "outputs": [
    {
     "name": "stdout",
     "output_type": "stream",
     "text": [
      "Kruskal {'2-3': 4, '0-3': 5, '0-1': 10}\n"
     ]
    }
   ],
   "source": [
    "g = Graph(4)\n",
    "g.addEdge(0,1,10)\n",
    "g.addEdge(0,2,6)\n",
    "g.addEdge(0,3,5)\n",
    "g.addEdge(1,3,15)\n",
    "g.addEdge(2,3,4)\n",
    "print('Kruskal',g.Kruskal())"
   ]
  },
  {
   "cell_type": "code",
   "execution_count": 58,
   "metadata": {},
   "outputs": [
    {
     "name": "stdout",
     "output_type": "stream",
     "text": [
      "Dijkstra {'0': 0, '1': 4, '2': 12, '3': 19, '4': 21, '5': 11, '6': 9, '7': 8, '8': 14}\n"
     ]
    }
   ],
   "source": [
    "g = Graph(9)\n",
    "g.graph = [[0,4,0,0,0,0,0,8,0],\n",
    "          [4,0,8,0,0,0,0,11,0],\n",
    "          [0,8,0,7,0,4,0,0,2],\n",
    "          [0,0,7,0,9,14,0,0,0],\n",
    "          [0,0,0,9,0,10,0,0,0],\n",
    "          [0,0,4,14,10,0,2,0,0],\n",
    "          [0,0,0,0,0,2,0,1,6],\n",
    "          [8,11,0,0,0,0,1,0,7],\n",
    "          [0,0,2,0,0,0,6,7,0]]\n",
    "\n",
    "print('Dijkstra',g.Dijkstra(0))"
   ]
  },
  {
   "cell_type": "markdown",
   "metadata": {},
   "source": [
    "##### 參考資料: http://alrightchiu.github.io/SecondRound/single-source-shortest-pathdijkstras-algorithm.html\n",
    "#####                  http://puremonkey2010.blogspot.com/2010/10/kruskal.html\n",
    "#####                  https://www.geeksforgeeks.org/kruskals-minimum-spanning-tree-algorithm-greedy-algo-2/\n",
    "#####                  https://github.com/wellslu/DSA/blob/master/week8/Dijkstra%26Kruskal.ipynb(參考盧煒中同學程式碼)"
   ]
  }
 ],
 "metadata": {
  "kernelspec": {
   "display_name": "Python 3",
   "language": "python",
   "name": "python3"
  },
  "language_info": {
   "codemirror_mode": {
    "name": "ipython",
    "version": 3
   },
   "file_extension": ".py",
   "mimetype": "text/x-python",
   "name": "python",
   "nbconvert_exporter": "python",
   "pygments_lexer": "ipython3",
   "version": "3.7.3"
  }
 },
 "nbformat": 4,
 "nbformat_minor": 2
}
