{
 "cells": [
  {
   "cell_type": "markdown",
   "metadata": {},
   "source": [
    "# Hash Table"
   ]
  },
  {
   "cell_type": "markdown",
   "metadata": {},
   "source": [
    "## 簡介:"
   ]
  },
  {
   "cell_type": "markdown",
   "metadata": {},
   "source": [
    "### Hash Table有「雜湊法」或「散置法」之稱，此搜尋法可不需經過事先排序，直接且快速的找到鍵值所放的位址，期改善了Direct Access Table的兩項缺陷，一是鍵值一定要是非負整數，二是浪費記憶體空間，其時間複雜度為O(1)。"
   ]
  },
  {
   "cell_type": "markdown",
   "metadata": {},
   "source": [
    "## 概念:"
   ]
  },
  {
   "cell_type": "markdown",
   "metadata": {},
   "source": [
    "### Hash Table的目標是將存放資料的「Table」的大小降到「真正會存放進Table的資料的數量」，也就是「有用到的Key的數量」。要達成目標需引入hash function，將Key對應到符合Table大小m的範圍內，index=h(Key)，即可成為Hash Table的index。"
   ]
  },
  {
   "cell_type": "markdown",
   "metadata": {},
   "source": [
    "## Collision & Overflow: Collision:"
   ]
  },
  {
   "cell_type": "markdown",
   "metadata": {},
   "source": [
    "### 就是兩筆資料存進同一個Table之slot的情形，這將會使得查詢資料出現錯誤。Overflow為當table已滿時，資料放進去會產生溢位，因此如何在碰撞後處理溢位問題是重要的課題，期解決辦法為Chaining 跟Open Addressing。"
   ]
  },
  {
   "cell_type": "markdown",
   "metadata": {},
   "source": [
    "## Hash Function:"
   ]
  },
  {
   "cell_type": "markdown",
   "metadata": {},
   "source": [
    "### 優秀的Hash Function應具備的特徵有: 1.定義h()的定義域(domain)為整個Key的宇集合U，值域(range)應小於Table的大小m 2.盡可能讓Key在經過Hash Function後，在值域(也就是Table的index)能夠平均分佈，如此才不會有「兩筆資料存進同一個Table空格(稱為slot)」的情況。"
   ]
  },
  {
   "cell_type": "markdown",
   "metadata": {},
   "source": [
    "### Division Method 是利用餘數來做分配，應只要做一次運算，所以速度較快，但需慎選定義的table大小，否則易發生碰撞問題。"
   ]
  },
  {
   "cell_type": "code",
   "execution_count": 6,
   "metadata": {},
   "outputs": [
    {
     "name": "stdout",
     "output_type": "stream",
     "text": [
      "Requirement already satisfied: pycryptodomex in c:\\programdata\\anaconda3\\lib\\site-packages (3.9.4)\n"
     ]
    }
   ],
   "source": [
    "!pip install pycryptodomex"
   ]
  },
  {
   "cell_type": "markdown",
   "metadata": {},
   "source": [
    "### 功能說明:"
   ]
  },
  {
   "cell_type": "code",
   "execution_count": 17,
   "metadata": {},
   "outputs": [],
   "source": [
    "from Crypto.Hash import MD5 #引入MD5套件"
   ]
  },
  {
   "cell_type": "code",
   "execution_count": 29,
   "metadata": {},
   "outputs": [],
   "source": [
    "class ListNode(object):\n",
    "    def __init__(self, val):\n",
    "        self.val = val\n",
    "        self.next = None\n",
    "        \n",
    "class MyHashSet:\n",
    "    def __init__(self, capacity=5):      #定義table大小，這裡設成5\n",
    "        self.capacity = capacity\n",
    "        self.data = [None] * capacity    #利用餘數做分配slot\n",
    "        \n",
    "    def ckey(self, text):                #將文字放入MD5加密轉換\n",
    "        h = MD5.new()\n",
    "        h.update(text.encode(\"utf-8\"))\n",
    "        n = int(h.hexdigest(),16)\n",
    "        return n\n",
    "    \n",
    "    def index(self, key):                #這裡設置一個處理餘數的defunction，將加密完的文字除以設定好的capacity\n",
    "        n = self.ckey(key)\n",
    "        return n % self.capacity\n",
    "        \n",
    "    def add(self, key):                  #add:輸入文字，並將文字放入hash_table\n",
    "        if self.contains(key) is False:  #呼叫contains來尋找裡面是否有重複，有的話就pass\n",
    "            \n",
    "            n = self.ckey(key)           \n",
    "            a = self.index(key)\n",
    "            c = self.data[a]             #將放入data的值賦給 c\n",
    "                                          \n",
    "            if c is None:                #c的位置若沒人時，直接放入\n",
    "                self.data[a] = ListNode(n) \n",
    "            else:                        #若有則利用while迴圈，讓他往下跑，直到有空間則放入\n",
    "                while c:\n",
    "                    if c.val == n:\n",
    "                        return\n",
    "                    if c.next is None:\n",
    "                        c.next = ListNode(n)\n",
    "                        return \n",
    "                    else:\n",
    "                        c = c.next\n",
    "                return\n",
    "        else:\n",
    "            pass\n",
    "        \n",
    "    def remove(self, key):              #remove:刪除特定key  \n",
    "        n = self.ckey(key)\n",
    "        a = self.index(key)\n",
    "        c = self.data[a]\n",
    "        if self.contains(key) is True: #利用contains來確定內部是否有要找的key\n",
    "            if c.val == n:             #若當前值為要找的key值，則將data位置的標籤指向下一個\n",
    "                self.data[a] = c.next\n",
    "            while c.next:\n",
    "                if c.next.val == n:\n",
    "                    c.next = c.next.next\n",
    "                    return\n",
    "                c = c.next\n",
    "            return\n",
    "                      \n",
    "    def contains(self, key):          #contains:找尋特定key是否存在\n",
    "        n = self.ckey(key)\n",
    "        a = self.index(key)\n",
    "        c = self.data[a]\n",
    "        while c :                    #利用while迴圈走訪，來確認key是否存在\n",
    "            if c.val == n:\n",
    "                return True\n",
    "            c = c.next\n",
    "        return False"
   ]
  },
  {
   "cell_type": "code",
   "execution_count": 32,
   "metadata": {},
   "outputs": [
    {
     "name": "stdout",
     "output_type": "stream",
     "text": [
      "True\n",
      "True\n",
      "True\n",
      "False\n",
      "True\n",
      "False\n"
     ]
    }
   ],
   "source": [
    "hashSet = MyHashSet()\n",
    "hashSet.add(\"dog\")\n",
    "hashSet.add(\"pig\")\n",
    "rel = hashSet.contains(\"pig\")\n",
    "print(rel)\n",
    "rel = hashSet.contains(\"dog\")\n",
    "print(rel)\n",
    "rel = hashSet.contains(\"pig\")\n",
    "print(rel)\n",
    "rel = hashSet.contains(\"cat\")\n",
    "print(rel)\n",
    "hashSet.add(\"bird\")\n",
    "rel = hashSet.contains(\"bird\")\n",
    "print(rel)\n",
    "hashSet.remove(\"pig\")\n",
    "rel = hashSet.contains(\"pig\")\n",
    "print(rel)"
   ]
  },
  {
   "cell_type": "markdown",
   "metadata": {},
   "source": [
    "### 心路歷程: 因為之前課堂上寫過linklist的題目，下課後也有多加研究，所以寫這次作業比較沒有太大的問題，MD5的加密方式一開始有點無法理解在幹嘛，後來與同學討論整個概念過後，才比較清楚整個hash table的運作方式，因之前的練習導致這次的作業算是得心應手，很開心自己還是有些進步。"
   ]
  },
  {
   "cell_type": "markdown",
   "metadata": {},
   "source": [
    "#### 參考資料: http://alrightchiu.github.io/SecondRound/hash-tableintrojian-jie.html#ht (主要原理概念)\n",
    "####                  https://docs.google.com/presentation/d/e/2PACX-1vT1HO9Nl475k2bR0l1x8_Tr4V5Wzx0BEqp9bpmHckvj8kTeJehhYVlOJUDVPhLQm6kjGCJ_sLMSBUw5/pub?start=false&loop=false&delayms=3000&slide=id.g790b8351ca_0_175 (MD5 使用方法)\n",
    "####                  https://github.com/aaron1aaron2/my-learning-note/blob/master/HW4/hash_table_06170214.py (程式碼概念參考)"
   ]
  }
 ],
 "metadata": {
  "kernelspec": {
   "display_name": "Python 3",
   "language": "python",
   "name": "python3"
  },
  "language_info": {
   "codemirror_mode": {
    "name": "ipython",
    "version": 3
   },
   "file_extension": ".py",
   "mimetype": "text/x-python",
   "name": "python",
   "nbconvert_exporter": "python",
   "pygments_lexer": "ipython3",
   "version": "3.7.3"
  }
 },
 "nbformat": 4,
 "nbformat_minor": 2
}
